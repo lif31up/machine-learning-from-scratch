{
 "cells": [
  {
   "cell_type": "code",
   "execution_count": 2,
   "id": "2c34f6de",
   "metadata": {
    "id": "2c34f6de",
    "ExecuteTime": {
     "end_time": "2025-06-13T14:16:03.965012700Z",
     "start_time": "2025-06-13T14:16:02.800815900Z"
    }
   },
   "outputs": [],
   "source": [
    "from sklearn.datasets import load_iris\n",
    "import matplotlib.pyplot as plt\n",
    "import numpy as np\n",
    "import random\n",
    "from tqdm import tqdm"
   ]
  },
  {
   "cell_type": "markdown",
   "source": [
    "## Understanding Neural Network Foundations: Perceptron, ADALINE and MLP\n",
    "Understanding Neural Network Foundations: Perceptron, ADALINE and MLP"
   ],
   "metadata": {
    "collapsed": false
   },
   "id": "837d54166f29f95f"
  },
  {
   "cell_type": "code",
   "execution_count": 3,
   "id": "4bbc91d5",
   "metadata": {
    "id": "4bbc91d5",
    "ExecuteTime": {
     "end_time": "2025-06-13T14:16:03.972591700Z",
     "start_time": "2025-06-13T14:16:03.965012700Z"
    }
   },
   "outputs": [],
   "source": [
    "iris_set = load_iris()\n",
    "n_classes = iris_set.target_names.__len__()"
   ]
  },
  {
   "cell_type": "markdown",
   "source": [
    "[dataset specification](https://scikit-learn.org/1.5/modules/generated/sklearn.datasets.load_iris.html)"
   ],
   "metadata": {
    "collapsed": false
   },
   "id": "cc18e34b80be31e6"
  },
  {
   "cell_type": "code",
   "execution_count": 4,
   "outputs": [],
   "source": [
    "class Dataset:\n",
    "  def __init__(self, dataset, indices, transform=None, encoder=None):\n",
    "    self.dataset, self.indices = dataset, indices\n",
    "    self.transform, self.encoder = transform, encoder\n",
    "  def __getitem__(self, item: int):\n",
    "    idx = self.indices[item]\n",
    "    feature, label = self.dataset.data[idx], self.dataset.target[idx]\n",
    "    if self.transform: feature = self.transform(feature)\n",
    "    if self.encoder: label = self.encoder(label)\n",
    "    return feature, label\n",
    "  def __len__(self): return len(self.indices)"
   ],
   "metadata": {
    "id": "9cb5eee78991a95",
    "ExecuteTime": {
     "end_time": "2025-06-13T14:16:03.978828200Z",
     "start_time": "2025-06-13T14:16:03.975109300Z"
    }
   },
   "id": "9cb5eee78991a95"
  },
  {
   "cell_type": "code",
   "execution_count": 5,
   "outputs": [],
   "source": [
    "indices = random.sample(range(iris_set.data.__len__()), 100)\n",
    "encoder = lambda index: np.eye(n_classes)[index]\n",
    "\n",
    "# init Datasets\n",
    "support_set = Dataset(iris_set, indices[:50], encoder=encoder)\n",
    "query_set = Dataset(iris_set, indices[50:], encoder=encoder)"
   ],
   "metadata": {
    "collapsed": false,
    "ExecuteTime": {
     "end_time": "2025-06-13T14:16:03.985644900Z",
     "start_time": "2025-06-13T14:16:03.981840600Z"
    }
   },
   "id": "63380a0f9ca238ef"
  },
  {
   "cell_type": "markdown",
   "source": [
    "## 아달린\n",
    "아달린(Adaptive Linear Neuron, Adaptive Linear Element)는 단층의 인공 신경망입니다. 퍼셉트론에 근거하고 있으며 무게, 절편, 총합 함수를 사용합니다."
   ],
   "metadata": {
    "collapsed": false
   },
   "id": "5b4aa95a1b8c335c"
  },
  {
   "cell_type": "markdown",
   "source": [
    "### 수식화\n",
    "$$\n",
    "y = \\Sigma^{n}_{j=0}x_jw_j + \\theta\n",
    "$$\n",
    "- $x$는 입력 벡터입니다.\n",
    "    - $x_0 = 1$입니다.\n",
    "- $w$는 가중치 벡터입니다.\n",
    "    - $w_0 = 0$입니다.\n",
    "- $n$은 입력의 갯수입니다.\n",
    "- $\\theta$는 상수입니다.\n",
    "- $y$는 모델의 출력입니다."
   ],
   "metadata": {
    "collapsed": false
   },
   "id": "d37598dc8221fcea"
  },
  {
   "cell_type": "code",
   "execution_count": 6,
   "outputs": [],
   "source": [
    "class ADALINE:\n",
    "  def __init__(self, n_inpt, n_ouput):\n",
    "    self.n_ouput, self.n_inpt = n_ouput, n_inpt\n",
    "    self.weight = np.zeros(shape=(self.n_inpt, self.n_ouput))\n",
    "  # __init__\n",
    "\n",
    "  def forward(self, x): return relu(np.dot(x.T, self.weight))\n",
    "# ADALINE"
   ],
   "metadata": {
    "collapsed": false,
    "ExecuteTime": {
     "end_time": "2025-06-13T14:16:03.994085800Z",
     "start_time": "2025-06-13T14:16:03.985644900Z"
    }
   },
   "id": "4bd9b1f0"
  },
  {
   "cell_type": "code",
   "execution_count": 7,
   "outputs": [],
   "source": [
    "def sigmoid(x): return 1 / (1 + np.exp(-1 * x))\n",
    "def relu(x): return np.maximum(0, x)"
   ],
   "metadata": {
    "collapsed": false,
    "ExecuteTime": {
     "end_time": "2025-06-13T14:16:04.001498400Z",
     "start_time": "2025-06-13T14:16:03.992098300Z"
    }
   },
   "id": "4ed23d9d"
  },
  {
   "cell_type": "markdown",
   "source": [
    "### 학습법 정의하기\n",
    "아달린의 학습법은 경사 하강법의 일종인 최소 제곱법(least mean squares)이 사용됩니다. 가중치가 갱신되기 위한 알고리즘과 그 변수는 다음과 같습니다.\n",
    "$$\n",
    "w \\leftarrow w + \\eta(o-y)x\n",
    "$$\n",
    "- $\\eta$는 학습률입니다.\n",
    "- $y$는 모델의 출력입니다.\n",
    "- $o$는 출력입니다.\n",
    "- $E = (o-y)^2$는 오류에 대한 제곱입니다."
   ],
   "metadata": {
    "collapsed": false
   },
   "id": "e616f16bce08d3b"
  },
  {
   "cell_type": "code",
   "execution_count": 8,
   "outputs": [],
   "source": [
    "def GDR(model, lr):\n",
    "  def _GDR(x, y):\n",
    "    pred = model.forward(x)\n",
    "    error = pred - y\n",
    "    grads = np.dot(x.reshape(1, -1).T, error.reshape(1, -1))\n",
    "    model.weight -= grads * lr\n",
    "  return _GDR"
   ],
   "metadata": {
    "collapsed": false,
    "ExecuteTime": {
     "end_time": "2025-06-13T14:16:04.002503300Z",
     "start_time": "2025-06-13T14:16:03.996087300Z"
    }
   },
   "id": "a14c68ec06e903b3"
  },
  {
   "cell_type": "code",
   "execution_count": 9,
   "outputs": [
    {
     "name": "stderr",
     "output_type": "stream",
     "text": [
      "100%|██████████| 1000/1000 [00:00<00:00, 1588.64it/s]\n"
     ]
    }
   ],
   "source": [
    "progress_bar = tqdm(range(1000))\n",
    "\n",
    "# init and train a model\n",
    "model = ADALINE(4, 3)\n",
    "optimizer = GDR(model, 0.001)\n",
    "for _ in progress_bar:\n",
    "  for feature, label in support_set:\n",
    "    optimizer(feature, label)"
   ],
   "metadata": {
    "collapsed": false,
    "ExecuteTime": {
     "end_time": "2025-06-13T14:16:04.636880400Z",
     "start_time": "2025-06-13T14:16:04.002503300Z"
    }
   },
   "id": "2a7f77f00d7b2c8e"
  },
  {
   "cell_type": "code",
   "source": [
    "count, n_samples = 0, len(query_set)\n",
    "for feature, label in support_set:\n",
    "  pred = model.forward(feature)\n",
    "  if np.argmax(pred) == np.argmax(label): count += 1\n",
    "print(f\"accuracy: {count / n_samples:.2f}({count}/{n_samples})\")"
   ],
   "metadata": {
    "id": "bVsrTBzBRskr",
    "ExecuteTime": {
     "end_time": "2025-06-13T14:16:04.649521Z",
     "start_time": "2025-06-13T14:16:04.639400Z"
    }
   },
   "id": "bVsrTBzBRskr",
   "execution_count": 10,
   "outputs": [
    {
     "name": "stdout",
     "output_type": "stream",
     "text": [
      "accuracy: 0.92(46/50)\n"
     ]
    }
   ]
  }
 ],
 "metadata": {
  "kernelspec": {
   "display_name": "Python 3 (ipykernel)",
   "language": "python",
   "name": "python3"
  },
  "language_info": {
   "codemirror_mode": {
    "name": "ipython",
    "version": 3
   },
   "file_extension": ".py",
   "mimetype": "text/x-python",
   "name": "python",
   "nbconvert_exporter": "python",
   "pygments_lexer": "ipython3",
   "version": "3.10.4"
  },
  "colab": {
   "provenance": []
  }
 },
 "nbformat": 4,
 "nbformat_minor": 5
}
