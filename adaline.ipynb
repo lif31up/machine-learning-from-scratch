{
 "cells": [
  {
   "cell_type": "code",
   "execution_count": 137,
   "id": "2c34f6de",
   "metadata": {
    "id": "2c34f6de",
    "ExecuteTime": {
     "end_time": "2025-03-02T04:16:43.975359500Z",
     "start_time": "2025-03-02T04:16:43.925557900Z"
    }
   },
   "outputs": [],
   "source": [
    "from sklearn.datasets import load_iris\n",
    "import matplotlib.pyplot as plt\n",
    "import numpy as np\n",
    "import random\n",
    "from tqdm import tqdm"
   ]
  },
  {
   "cell_type": "code",
   "execution_count": 138,
   "id": "4bbc91d5",
   "metadata": {
    "id": "4bbc91d5",
    "ExecuteTime": {
     "end_time": "2025-03-02T04:16:44.054850Z",
     "start_time": "2025-03-02T04:16:43.935558200Z"
    }
   },
   "outputs": [],
   "source": [
    "iris_set = load_iris()\n",
    "n_classes = iris_set.target_names.__len__()"
   ]
  },
  {
   "cell_type": "code",
   "execution_count": 139,
   "outputs": [],
   "source": [
    "class Dataset:\n",
    "  def __init__(self, dataset, indices, transform=None, encoder=None):\n",
    "    self.dataset, self.indices = dataset, indices\n",
    "    self.transform, self.encoder = transform, encoder\n",
    "  def __getitem__(self, item: int):\n",
    "    idx = self.indices[item]\n",
    "    feature, label = self.dataset.data[idx], self.dataset.target[idx]\n",
    "    if self.transform: feature = self.transform(feature)\n",
    "    if self.encoder: label = self.encoder(label)\n",
    "    return feature, label\n",
    "  def __len__(self): return len(self.indices)"
   ],
   "metadata": {
    "id": "9cb5eee78991a95",
    "ExecuteTime": {
     "end_time": "2025-03-02T04:16:44.055850200Z",
     "start_time": "2025-03-02T04:16:43.951982900Z"
    }
   },
   "id": "9cb5eee78991a95"
  },
  {
   "cell_type": "code",
   "execution_count": 140,
   "outputs": [],
   "source": [
    "indices = random.sample(range(iris_set.data.__len__()), 100)\n",
    "encoder = lambda index: np.eye(n_classes)[index]\n",
    "\n",
    "# init Datasets\n",
    "support_set = Dataset(iris_set, indices[:50], encoder=encoder)\n",
    "query_set = Dataset(iris_set, indices[50:], encoder=encoder)"
   ],
   "metadata": {
    "collapsed": false,
    "ExecuteTime": {
     "end_time": "2025-03-02T04:16:44.055850200Z",
     "start_time": "2025-03-02T04:16:43.965362300Z"
    }
   },
   "id": "63380a0f9ca238ef"
  },
  {
   "cell_type": "code",
   "execution_count": 142,
   "outputs": [],
   "source": [
    "def sigmoid(x): return 1 / (1 + np.exp(-1 * x))\n",
    "def relu(x): return np.maximum(0, x)"
   ],
   "metadata": {
    "collapsed": false,
    "ExecuteTime": {
     "end_time": "2025-03-02T04:16:44.056850100Z",
     "start_time": "2025-03-02T04:16:43.994463500Z"
    }
   },
   "id": "4ed23d9d"
  },
  {
   "cell_type": "code",
   "execution_count": 143,
   "outputs": [],
   "source": [
    "class ADALINE:\n",
    "  def __init__(self, n_inpt, n_ouput):\n",
    "    self.n_ouput, self.n_inpt = n_ouput, n_inpt\n",
    "    self.weight = np.zeros(shape=(self.n_inpt, self.n_ouput))\n",
    "  # __init__\n",
    "\n",
    "  def forward(self, x): return relu(np.dot(x.T, self.weight))\n",
    "# ADALINE"
   ],
   "metadata": {
    "collapsed": false,
    "ExecuteTime": {
     "end_time": "2025-03-02T04:16:44.056850100Z",
     "start_time": "2025-03-02T04:16:44.007173900Z"
    }
   },
   "id": "4bd9b1f0"
  },
  {
   "cell_type": "code",
   "execution_count": 155,
   "outputs": [],
   "source": [
    "def GDR(model, lr):\n",
    "  def _GDR(x, y):\n",
    "    pred = model.forward(x)\n",
    "    error = pred - y\n",
    "    grads = np.dot(x.reshape(1, -1).T, error.reshape(1, -1))\n",
    "    model.weight -= grads * lr\n",
    "  return _GDR"
   ],
   "metadata": {
    "collapsed": false,
    "ExecuteTime": {
     "end_time": "2025-03-02T04:18:11.258427100Z",
     "start_time": "2025-03-02T04:18:11.234125100Z"
    }
   },
   "id": "a14c68ec06e903b3"
  },
  {
   "cell_type": "code",
   "execution_count": 158,
   "outputs": [
    {
     "name": "stderr",
     "output_type": "stream",
     "text": [
      "100%|██████████| 1000/1000 [00:01<00:00, 591.85it/s]\n"
     ]
    }
   ],
   "source": [
    "progress_bar = tqdm(range(1000))\n",
    "\n",
    "# init and train a model\n",
    "model = ADALINE(4, 3)\n",
    "optimizer = GDR(model, 0.001)\n",
    "for _ in progress_bar:\n",
    "  for feature, label in support_set:\n",
    "    optimizer(feature, label)"
   ],
   "metadata": {
    "collapsed": false,
    "ExecuteTime": {
     "end_time": "2025-03-02T04:19:12.901039700Z",
     "start_time": "2025-03-02T04:19:11.188463900Z"
    }
   },
   "id": "2a7f77f00d7b2c8e"
  },
  {
   "cell_type": "code",
   "source": [
    "count, n_samples = 0, len(query_set)\n",
    "for feature, label in support_set:\n",
    "  pred = model.forward(feature)\n",
    "  if np.argmax(pred) == np.argmax(label): count += 1\n",
    "print(f\"accuracy: {count / n_samples:.2f}({count}/{n_samples})\")"
   ],
   "metadata": {
    "id": "bVsrTBzBRskr",
    "ExecuteTime": {
     "end_time": "2025-03-02T04:19:13.715295100Z",
     "start_time": "2025-03-02T04:19:13.698462700Z"
    }
   },
   "id": "bVsrTBzBRskr",
   "execution_count": 159,
   "outputs": [
    {
     "name": "stdout",
     "output_type": "stream",
     "text": [
      "accuracy: 0.92(46/50)\n"
     ]
    }
   ]
  }
 ],
 "metadata": {
  "kernelspec": {
   "display_name": "Python 3 (ipykernel)",
   "language": "python",
   "name": "python3"
  },
  "language_info": {
   "codemirror_mode": {
    "name": "ipython",
    "version": 3
   },
   "file_extension": ".py",
   "mimetype": "text/x-python",
   "name": "python",
   "nbconvert_exporter": "python",
   "pygments_lexer": "ipython3",
   "version": "3.10.4"
  },
  "colab": {
   "provenance": []
  }
 },
 "nbformat": 4,
 "nbformat_minor": 5
}
