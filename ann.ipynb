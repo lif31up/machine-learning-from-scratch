{
 "cells": [
  {
   "cell_type": "code",
   "execution_count": 800,
   "id": "initial_id",
   "metadata": {
    "collapsed": true,
    "ExecuteTime": {
     "end_time": "2024-11-01T14:24:01.112649500Z",
     "start_time": "2024-11-01T14:24:01.040257100Z"
    }
   },
   "outputs": [],
   "source": [
    "from sklearn.datasets import load_iris\n",
    "import matplotlib.pyplot as plt\n",
    "import numpy as np\n",
    "import random"
   ]
  },
  {
   "cell_type": "code",
   "execution_count": 801,
   "outputs": [],
   "source": [
    "data = load_iris()\n",
    "shuffledIndices = np.random.permutation(len(data.target))\n",
    "data.data, data.target = data.data[shuffledIndices], data.target[shuffledIndices]"
   ],
   "metadata": {
    "collapsed": false,
    "ExecuteTime": {
     "end_time": "2024-11-01T14:24:01.173429500Z",
     "start_time": "2024-11-01T14:24:01.052863600Z"
    }
   },
   "id": "31f32110ff50e2df"
  },
  {
   "cell_type": "code",
   "execution_count": 802,
   "outputs": [],
   "source": [
    "# define Dataset\n",
    "class Dataset:\n",
    "    def __init__(self, dataset, vector_machine):\n",
    "      self.x, self.y = dataset\n",
    "      self.y = np.array([vector_machine[_] for _ in self.y])\n",
    "    def __getitem__(self, item): return self.x[item], self.y[item]\n",
    "    def __len__(self): return len(self.y)\n",
    "# Dataset\n",
    "\n",
    "def dataset_visualize(dataset: Dataset):\n",
    "  for x, y in dataset: print(f\"{'-' * 16}\\nx: {x}\\ny: {y}\")\n",
    "# dataset_visualize\n",
    "\n",
    "# init Datasets\n",
    "hv_machine = np.array([[1, 0, 0], [0, 1, 0], [0, 0, 1]])\n",
    "trainset = Dataset((data.data, data.target), vector_machine=hv_machine)\n",
    "testset = Dataset((data.data, data.target), vector_machine=hv_machine)\n",
    "###dataset_visualize(trainset)"
   ],
   "metadata": {
    "collapsed": false,
    "ExecuteTime": {
     "end_time": "2024-11-01T14:24:01.174427700Z",
     "start_time": "2024-11-01T14:24:01.076244Z"
    }
   },
   "id": "39f312a34a31b709"
  },
  {
   "cell_type": "code",
   "execution_count": 803,
   "outputs": [],
   "source": [
    "def sigmoid(x, e=2.7182): return 1 / (1 + e ** (-x))\n",
    "def relu(x): return np.array([max(0, _) for _ in x])"
   ],
   "metadata": {
    "collapsed": false,
    "ExecuteTime": {
     "end_time": "2024-11-01T14:24:01.174427700Z",
     "start_time": "2024-11-01T14:24:01.089906500Z"
    }
   },
   "id": "54a67165e172cf14"
  },
  {
   "cell_type": "code",
   "execution_count": 804,
   "outputs": [],
   "source": [
    "def sgd(x, y, weight, act_func, lr):\n",
    "    indications = act_func(np.dot(x, weight))\n",
    "    weight -= (lr / x.shape[0]) * (indications - y)\n",
    "# gdr\n",
    "\n",
    "class Node:\n",
    "    _next, _prev = None, None\n",
    "    def __init__(self, n_inpt, n_oupt, act_func=lambda x: x):\n",
    "        self.weight = np.random.rand(n_inpt, n_oupt)\n",
    "        self.grad = np.zeros(n_oupt)\n",
    "        self.act_func = act_func\n",
    "    # __init__\n",
    "    \n",
    "    def train(self, x, y, lr=0.01): sgd(x, y, self.weight, act_func=self.act_func, lr=lr)\n",
    "                \n",
    "    # train\n",
    "    \n",
    "    def __call__(self, x):\n",
    "        result = np.dot(x, self.weight)\n",
    "        self.grad = result.copy()\n",
    "        return result\n",
    "    # __call__\n",
    "    \n",
    "    def loss(self, dataset):\n",
    "        x, y = dataset.x, dataset.y\n",
    "        probability = np.dot(x, self.weight)\n",
    "        loss = np.mean(np.exp(1 - probability) * y) + np.sum(np.exp(probability) * (1 - y))\n",
    "        print(f\"cost: {loss:.3f}\")\n",
    "    # loss\n",
    "# Node"
   ],
   "metadata": {
    "collapsed": false,
    "ExecuteTime": {
     "end_time": "2024-11-01T14:24:01.175428100Z",
     "start_time": "2024-11-01T14:24:01.102690400Z"
    }
   },
   "id": "dd08d93a44db92c0"
  },
  {
   "cell_type": "code",
   "execution_count": 805,
   "outputs": [],
   "source": [
    "class ANN:\n",
    "    root, tail = None, None\n",
    "    def __init__(self):\n",
    "        prev, curr, first, attr = None, None, True, None\n",
    "        for attr_name in dir(self):\n",
    "            attr = getattr(self, attr_name)\n",
    "            if type(attr).__name__ == \"Node\" and attr_name != \"root\" and attr_name != \"tail\":\n",
    "                prev, curr = curr, attr\n",
    "                if first is True: self.root, first = curr, False\n",
    "                curr._prev = prev\n",
    "                if type(curr._prev).__name__ == \"Node\": curr._prev._next = curr\n",
    "        # for if if\n",
    "        self.tail = curr\n",
    "    # __init__\n",
    "    \n",
    "    def __call__(self, x):\n",
    "        def propagate(curr, buffer_result):\n",
    "            if curr._next is None: return curr(buffer_result)\n",
    "            return propagate(curr._next, curr(buffer_result))\n",
    "        # propagate\n",
    "        return propagate(self.root, x)\n",
    "    # forward\n",
    "    \n",
    "    def train(self, dataset, iters: int, lr=0.01, act_func=relu):\n",
    "        def backpropagate(curr, x, y):\n",
    "            if curr._prev is None: # root\n",
    "                curr.train(x, curr.grad)\n",
    "                return\n",
    "            if curr._next is None: # tail\n",
    "                curr.train(curr._prev.grad, y)\n",
    "                return backpropagate(curr._prev, x, y)\n",
    "            curr.train(curr._prev.grad, curr.grad)\n",
    "            return backpropagate(curr._prev, x, y)\n",
    "        # backpropagation\n",
    "        for _ in range(iters):\n",
    "            for x, y in dataset:\n",
    "                self.__call__(x)\n",
    "                backpropagate(self.tail, x, y)\n",
    "        # for for\n",
    "    # train\n",
    "    \n",
    "    def loss(self, dataset):\n",
    "        x, y = dataset.x, dataset.y\n",
    "        probability = self.__call__(x)\n",
    "        loss = np.mean(np.exp(1 - probability) * y) + np.sum(np.exp(probability) * (1 - y))\n",
    "        print(f\"cost: {loss:.3f}\")\n",
    "    # loss\n",
    "# ANN"
   ],
   "metadata": {
    "collapsed": false,
    "ExecuteTime": {
     "end_time": "2024-11-01T14:24:01.176427200Z",
     "start_time": "2024-11-01T14:24:01.127504500Z"
    }
   },
   "id": "90c96c0fea767241"
  },
  {
   "cell_type": "code",
   "execution_count": 806,
   "outputs": [],
   "source": [
    "class MyANN(ANN):\n",
    "    def __init__(self, n_inpt, n_output):\n",
    "        self.l1 = Node(n_inpt, 10)\n",
    "        self.l2 = Node(10, 5, relu)\n",
    "        self.l3 = Node(5, n_output, sigmoid)\n",
    "        super().__init__()\n",
    "    # __init__\n",
    "# DNN"
   ],
   "metadata": {
    "collapsed": false,
    "ExecuteTime": {
     "end_time": "2024-11-01T14:24:01.176427200Z",
     "start_time": "2024-11-01T14:24:01.143873400Z"
    }
   },
   "id": "f40a04d02863821f"
  },
  {
   "cell_type": "code",
   "execution_count": 807,
   "outputs": [
    {
     "name": "stdout",
     "output_type": "stream",
     "text": [
      "cost: 52063571093798952474188338407545035261898978092061294592.000\n"
     ]
    }
   ],
   "source": [
    "model = MyANN(len(trainset.x[0]), len(trainset.y[0]))\n",
    "model.loss(trainset)\n",
    "model.train(trainset, iters=500, lr=0.25)"
   ],
   "metadata": {
    "collapsed": false,
    "ExecuteTime": {
     "end_time": "2024-11-01T14:24:06.602650600Z",
     "start_time": "2024-11-01T14:24:01.155431900Z"
    }
   },
   "id": "8c9a12b8e5f113a3"
  },
  {
   "cell_type": "code",
   "execution_count": 808,
   "outputs": [
    {
     "data": {
      "text/plain": "<matplotlib.legend.Legend at 0x2461d6723d0>"
     },
     "execution_count": 808,
     "metadata": {},
     "output_type": "execute_result"
    },
    {
     "data": {
      "text/plain": "<Figure size 1200x600 with 1 Axes>",
      "image/png": "[encoded data removed]"
     },
     "metadata": {},
     "output_type": "display_data"
    }
   ],
   "source": [
    "# init a testset\n",
    "index = random.randrange(0, 150)\n",
    "test_x, test_y = testset[index]\n",
    "\n",
    "discrimination = lambda arr, value=1: np.where(arr == value)[0]\n",
    "\n",
    "labels = [\"setosa\",\"versicolour\",\"virginica\"]\n",
    "setosa = np.array([list(trainset.x[_]) for _ in range(trainset.__len__()) if discrimination(trainset.y[_], 1) == 0])\n",
    "versicolour = np.array([list(trainset.x[_]) for _ in range(trainset.__len__()) if discrimination(trainset.y[_], 1) == 1])\n",
    "virginica = np.array([list(trainset.x[_]) for _ in range(trainset.__len__()) if discrimination(trainset.y[_], 1) == 2])\n",
    "pred = model(test_x)\n",
    "\n",
    "fig, ax1 = plt.subplots(1, 1, figsize=(12, 6))\n",
    "ax1.set_xlabel('sepal length')\n",
    "ax1.set_ylabel('petal length')\n",
    "ax1.grid(True, alpha=0.5)\n",
    "\n",
    "ax1.scatter(x=setosa[:, 2], y=setosa[:, 1], s=50, alpha=0.8, c=\"violet\", label=\"setosa\")\n",
    "ax1.scatter(x=versicolour[:, 2], y=versicolour[:, 1], s=50, alpha=0.8, c=\"pink\", label=\"versicolour\")\n",
    "ax1.scatter(x=virginica[:, 2], y=virginica[:, 1], s=50, alpha=0.8, c=\"skyblue\", label=\"virginica\")\n",
    "ax1.scatter(x=test_x[0], y=test_x[1], s=100, alpha=1, c=\"r\", marker=\"+\", label=f\"prediction, '{labels[np.argmax(pred)]}'\")\n",
    "ax1.legend(fontsize=\"10\", loc=\"best\", title=\"Iris Prediction\")"
   ],
   "metadata": {
    "collapsed": false,
    "ExecuteTime": {
     "end_time": "2024-11-01T14:24:07.143909100Z",
     "start_time": "2024-11-01T14:24:06.616001200Z"
    }
   },
   "id": "7c650bcbbd1b14e3"
  },
  {
   "cell_type": "code",
   "execution_count": 809,
   "outputs": [
    {
     "name": "stdout",
     "output_type": "stream",
     "text": [
      "cost: 149.428\n"
     ]
    }
   ],
   "source": [
    "model.loss(trainset)"
   ],
   "metadata": {
    "collapsed": false,
    "ExecuteTime": {
     "end_time": "2024-11-01T14:24:07.161543900Z",
     "start_time": "2024-11-01T14:24:07.148492100Z"
    }
   },
   "id": "17ee01703e7de0c1"
  }
 ],
 "metadata": {
  "kernelspec": {
   "display_name": "Python 3",
   "language": "python",
   "name": "python3"
  },
  "language_info": {
   "codemirror_mode": {
    "name": "ipython",
    "version": 2
   },
   "file_extension": ".py",
   "mimetype": "text/x-python",
   "name": "python",
   "nbconvert_exporter": "python",
   "pygments_lexer": "ipython2",
   "version": "2.7.6"
  }
 },
 "nbformat": 4,
 "nbformat_minor": 5
}
