{
 "cells": [
  {
   "cell_type": "code",
   "execution_count": 138,
   "id": "abce4d72",
   "metadata": {
    "id": "abce4d72",
    "ExecuteTime": {
     "end_time": "2024-11-30T12:44:18.451538Z",
     "start_time": "2024-11-30T12:44:18.340797600Z"
    }
   },
   "outputs": [],
   "source": [
    "from sklearn.datasets import load_iris\n",
    "import matplotlib.pyplot as plt\n",
    "import numpy as np\n",
    "import random\n",
    "import pandas as pd"
   ]
  },
  {
   "cell_type": "code",
   "execution_count": 139,
   "outputs": [],
   "source": [
    "# load data and make its utils\n",
    "data = load_iris()\n",
    "shuffledIndices = np.random.permutation(len(data.target))\n",
    "data.data, data.target = data.data[shuffledIndices], data.target[shuffledIndices]\n",
    "iris_name = ['setosa', 'versicolour', 'virginica']"
   ],
   "metadata": {
    "id": "22dafd4a5d641b18",
    "ExecuteTime": {
     "end_time": "2024-11-30T12:44:18.530417500Z",
     "start_time": "2024-11-30T12:44:18.352769300Z"
    }
   },
   "id": "22dafd4a5d641b18"
  },
  {
   "cell_type": "markdown",
   "source": [
    "[dataset specification](https://scikit-learn.org/1.5/modules/generated/sklearn.datasets.load_iris.html)\n",
    "### Predict type of Iris by given Features\n",
    "**class**: [setosa, versicolour, virginica]\n",
    "**Number of Instances**: 150 (50 in each of three classes)\n",
    "**Number of Attributes**: 4 numeric, predictive attributes and the class\n",
    "**Attribute Information**:\n",
    "* sepal length in cm\n",
    "* sepal width in cm\n",
    "* petal length in cm\n",
    "* petal width in cm"
   ],
   "metadata": {
    "collapsed": false,
    "id": "238aaaf4d59584a1"
   },
   "id": "238aaaf4d59584a1"
  },
  {
   "cell_type": "code",
   "execution_count": 140,
   "outputs": [
    {
     "data": {
      "text/plain": "             Sepal Length  Sepal Width  Petal Length  Petal Width\nvirginica             5.8          2.7           5.1          1.9\nvirginica             7.4          2.8           6.1          1.9\nversicolour           5.5          2.4           3.8          1.1\nvirginica             7.3          2.9           6.3          1.8\nsetosa                4.8          3.4           1.6          0.2\nvirginica             5.8          2.8           5.1          2.4\nversicolour           6.1          2.8           4.0          1.3\nvirginica             6.7          3.0           5.2          2.3",
      "text/html": "<div>\n<style scoped>\n    .dataframe tbody tr th:only-of-type {\n        vertical-align: middle;\n    }\n\n    .dataframe tbody tr th {\n        vertical-align: top;\n    }\n\n    .dataframe thead th {\n        text-align: right;\n    }\n</style>\n<table border=\"1\" class=\"dataframe\">\n  <thead>\n    <tr style=\"text-align: right;\">\n      <th></th>\n      <th>Sepal Length</th>\n      <th>Sepal Width</th>\n      <th>Petal Length</th>\n      <th>Petal Width</th>\n    </tr>\n  </thead>\n  <tbody>\n    <tr>\n      <th>virginica</th>\n      <td>5.8</td>\n      <td>2.7</td>\n      <td>5.1</td>\n      <td>1.9</td>\n    </tr>\n    <tr>\n      <th>virginica</th>\n      <td>7.4</td>\n      <td>2.8</td>\n      <td>6.1</td>\n      <td>1.9</td>\n    </tr>\n    <tr>\n      <th>versicolour</th>\n      <td>5.5</td>\n      <td>2.4</td>\n      <td>3.8</td>\n      <td>1.1</td>\n    </tr>\n    <tr>\n      <th>virginica</th>\n      <td>7.3</td>\n      <td>2.9</td>\n      <td>6.3</td>\n      <td>1.8</td>\n    </tr>\n    <tr>\n      <th>setosa</th>\n      <td>4.8</td>\n      <td>3.4</td>\n      <td>1.6</td>\n      <td>0.2</td>\n    </tr>\n    <tr>\n      <th>virginica</th>\n      <td>5.8</td>\n      <td>2.8</td>\n      <td>5.1</td>\n      <td>2.4</td>\n    </tr>\n    <tr>\n      <th>versicolour</th>\n      <td>6.1</td>\n      <td>2.8</td>\n      <td>4.0</td>\n      <td>1.3</td>\n    </tr>\n    <tr>\n      <th>virginica</th>\n      <td>6.7</td>\n      <td>3.0</td>\n      <td>5.2</td>\n      <td>2.3</td>\n    </tr>\n  </tbody>\n</table>\n</div>"
     },
     "execution_count": 140,
     "metadata": {},
     "output_type": "execute_result"
    }
   ],
   "source": [
    "# represent the data using pandas\n",
    "df = pd.DataFrame(data.data, columns=['Sepal Length', 'Sepal Width', 'Petal Length', 'Petal Width'], index=[iris_name[_] for _ in data.target])\n",
    "df.sample(n=8)"
   ],
   "metadata": {
    "collapsed": false,
    "ExecuteTime": {
     "end_time": "2024-11-30T12:44:18.577102400Z",
     "start_time": "2024-11-30T12:44:18.368837400Z"
    }
   },
   "id": "f0a031cb3be0c5eb"
  },
  {
   "cell_type": "code",
   "execution_count": 141,
   "outputs": [],
   "source": [
    "# define Dataset\n",
    "class Dataset:\n",
    "    def __init__(self, dataset):\n",
    "      self.x, self.y = dataset\n",
    "    def __getitem__(self, item): return self.x[item], self.y[item]\n",
    "    def __len__(self): return len(self.y)\n",
    "# Dataset\n",
    "\n",
    "# init Datasets\n",
    "trainset = Dataset((data.data, data.target))\n",
    "testset = Dataset((data.data, data.target))"
   ],
   "metadata": {
    "id": "82417d6f3c383b4b",
    "ExecuteTime": {
     "end_time": "2024-11-30T12:44:18.581102900Z",
     "start_time": "2024-11-30T12:44:18.405187400Z"
    }
   },
   "id": "82417d6f3c383b4b"
  },
  {
   "cell_type": "markdown",
   "source": [
    "### Loss Functions: MSE and MAE\n",
    "\n",
    "Loss functions are a critical component in machine learning models, particularly for regression tasks. They quantify the difference between the predicted values and the actual target values, guiding the optimization process to minimize this error.\n",
    "\n",
    "#### Mean Squared Error (MSE)\n",
    "MSE calculates the average of the squared differences between the predicted and actual values. It is defined as:\n",
    "\n",
    "$$\\text{MSE} = \\frac{1}{n} \\sum_{i=1}^{n} (y_i - \\hat{y}_i)^2$$\n",
    "\n",
    "- **Penalizes larger errors more heavily**: Squaring the errors makes MSE more sensitive to outliers.\n",
    "- **Continuous optimization**: Smooth gradients make it suitable for many gradient-based optimization algorithms.\n",
    "- **Use Case**: Ideal when large errors need to be penalized significantly.\n",
    "\n",
    "### Mean Absolute Error (MAE)\n",
    "MAE calculates the average of the absolute differences between the predicted and actual values. It is defined as:\n",
    "$$\\text{MAE} = \\frac{1}{n} \\sum_{i=1}^{n} |y_i - \\hat{y}_i|$$\n",
    "\n",
    "- **Treats all errors equally**: MAE is less sensitive to outliers compared to MSE.\n",
    "- **Robust to Outliers**: Does not disproportionately penalize larger deviations.\n",
    "- **Use Case**: Ideal for datasets where outliers are present and need to be treated equally."
   ],
   "metadata": {
    "collapsed": false
   },
   "id": "84067821d3244e27"
  },
  {
   "cell_type": "code",
   "execution_count": 142,
   "id": "fc074530",
   "metadata": {
    "id": "fc074530",
    "ExecuteTime": {
     "end_time": "2024-11-30T12:44:18.581102900Z",
     "start_time": "2024-11-30T12:44:18.418746500Z"
    }
   },
   "outputs": [],
   "source": [
    "# define loss functions(MSE, MAE)\n",
    "def mean_squared_error(independent, dependent, weight):\n",
    "    probability = np.dot(independent, weight)\n",
    "    return np.mean((probability - dependent) ** 2)\n",
    "# mean_squared_error\n",
    "\n",
    "def mean_absolute_error(independent, dependent, weight):\n",
    "    probability = np.dot(independent, weight)\n",
    "    return np.mean(abs(probability - dependent))\n",
    "# mean_absolute_error"
   ]
  },
  {
   "cell_type": "markdown",
   "source": [
    "### Gradient Descent with Regularization (GDR)\n",
    "Gradient Descent with Regularization (GDR) is an optimization technique used to minimize the loss function while controlling the complexity of the model. By incorporating regularization terms into the loss function, GDR helps to prevent overfitting and improves the generalization of the model to unseen data. Update rule:\n",
    "$$\\theta = \\theta - \\eta \\cdot \\nabla L(\\theta)$$\n",
    "Gradient Descent is an iterative optimization algorithm used to minimize the loss function by updating model parameters in the direction of the steepest descent of the gradient."
   ],
   "metadata": {
    "collapsed": false
   },
   "id": "fe2d8f9d88c01033"
  },
  {
   "cell_type": "code",
   "execution_count": 143,
   "outputs": [],
   "source": [
    "# define LinearRegression\n",
    "class LinearRegression:\n",
    "    def __init__(self, n_inpt): self.weight = np.zeros(shape=(n_inpt))\n",
    "    \n",
    "    def gdr(self, x, y, lr):\n",
    "      indications = self.__call__(x)\n",
    "      self.weight -= (lr / x.shape[0]) * np.dot(x.T, (indications - y))\n",
    "    # gdr\n",
    "    \n",
    "    def train(self, dataset, iters: int, lr=0.01):\n",
    "        for _ in range(iters):\n",
    "            for x, y in dataset:\n",
    "                self.gdr(x, y, lr=lr)\n",
    "    # train\n",
    "\n",
    "    def __call__(self, x):\n",
    "      pred = np.dot(x, self.weight)\n",
    "      return pred if pred <= 2 else 2\n",
    "\n",
    "    def loss(self, dataset, optimizer=mean_squared_error):\n",
    "        x, y = dataset.x, dataset.y\n",
    "        loss = optimizer(x, y, self.weight)\n",
    "        print(f\"loss: {loss:.3f}\")\n",
    "    # loss\n",
    "# LogisticRegression"
   ],
   "metadata": {
    "id": "338d3230bab8351d",
    "ExecuteTime": {
     "end_time": "2024-11-30T12:44:18.585140400Z",
     "start_time": "2024-11-30T12:44:18.433755800Z"
    }
   },
   "id": "338d3230bab8351d"
  },
  {
   "cell_type": "code",
   "execution_count": 144,
   "outputs": [
    {
     "name": "stdout",
     "output_type": "stream",
     "text": [
      "loss: 1.667\n",
      "loss: 0.056\n"
     ]
    }
   ],
   "source": [
    "# init and train a model\n",
    "model = LinearRegression(len(trainset.x[0]))\n",
    "model.loss(trainset, optimizer=mean_squared_error)\n",
    "model.train(trainset, iters=1000, lr=0.01)\n",
    "model.loss(testset, optimizer=mean_squared_error)"
   ],
   "metadata": {
    "colab": {
     "base_uri": "https://localhost:8080/"
    },
    "id": "6c35f6a8",
    "outputId": "c9a422f9-7705-409e-ec84-67856eb3f80e",
    "ExecuteTime": {
     "end_time": "2024-11-30T12:44:20.365819500Z",
     "start_time": "2024-11-30T12:44:18.444917400Z"
    }
   },
   "id": "6c35f6a8"
  },
  {
   "cell_type": "markdown",
   "source": [
    "### Ordinal Linear Regression\n",
    "[wikipedia](https://en.wikipedia.org/wiki/Ordinal_regression)\n",
    "Ordinal Linear Regression is a statistical model used to predict an ordinal variable based on a given feature vector. The model outputs a continuous value (a float) within specific ranges corresponding to the ordinal categories. These predicted values are then mapped to discrete ordinal labels to classify instances appropriately.\n",
    "* **around 0 or below:** represents setosa\n",
    "* **around 1:** represents versicolour\n",
    "* **around 3 or above:** represents virginica"
   ],
   "metadata": {
    "collapsed": false
   },
   "id": "b3dfb6f8529519cc"
  },
  {
   "cell_type": "code",
   "execution_count": 145,
   "outputs": [
    {
     "data": {
      "text/plain": "<matplotlib.legend.Legend at 0x1e323ebd3d0>"
     },
     "execution_count": 145,
     "metadata": {},
     "output_type": "execute_result"
    },
    {
     "data": {
      "text/plain": "<Figure size 1200x600 with 1 Axes>",
      "image/png": "[encoded data removed]"
     },
     "metadata": {},
     "output_type": "display_data"
    }
   ],
   "source": [
    "# create a testset\n",
    "index = random.randrange(0, 50)\n",
    "test_x, test_y = testset[index]\n",
    "\n",
    "labels = [\"setosa\",\"versicolour\",\"virginica\"] # ordinal linear regressor\n",
    "setosa = np.array([list(trainset.x[_]) for _ in range(trainset.__len__()) if trainset.y[_] == 0])\n",
    "versicolour = np.array([list(trainset.x[_]) for _ in range(trainset.__len__()) if trainset.y[_] == 1])\n",
    "virginica = np.array([list(trainset.x[_]) for _ in range(trainset.__len__()) if trainset.y[_] == 2])\n",
    "pred = model(test_x)\n",
    "\n",
    "fig, ax1 = plt.subplots(1, 1, figsize=(12, 6))\n",
    "ax1.set_xlabel('sepal length')\n",
    "ax1.set_ylabel('petal length')\n",
    "ax1.grid(True, alpha=0.25)\n",
    "\n",
    "ax1.scatter(x=setosa[:, 2], y=setosa[:, 1], s=50, alpha=0.8, c=\"violet\", label=\"setosa\")\n",
    "ax1.scatter(x=versicolour[:, 2], y=versicolour[:, 1], s=50, alpha=0.8, c=\"pink\", label=\"versicolour\")\n",
    "ax1.scatter(x=virginica[:, 2], y=virginica[:, 1], s=50, alpha=0.8, c=\"skyblue\", label=\"virginica\")\n",
    "ax1.scatter(x=test_x[0], y=test_x[1], s=100, alpha=1, c=\"r\", marker=\"+\", label=f\"prediction\")\n",
    "ax1.legend(fontsize=\"10\", loc=\"best\", title=\"Iris Prediction\")"
   ],
   "metadata": {
    "collapsed": false,
    "ExecuteTime": {
     "end_time": "2024-11-30T12:44:20.847443700Z",
     "start_time": "2024-11-30T12:44:20.373863200Z"
    }
   },
   "id": "b2944eff"
  },
  {
   "cell_type": "code",
   "execution_count": 146,
   "id": "6d65f648",
   "metadata": {
    "colab": {
     "base_uri": "https://localhost:8080/"
    },
    "id": "6d65f648",
    "outputId": "6bd77589-c61a-4c2a-f243-cea0d40a0132",
    "ExecuteTime": {
     "end_time": "2024-11-30T12:44:20.868779100Z",
     "start_time": "2024-11-30T12:44:20.854311900Z"
    }
   },
   "outputs": [
    {
     "name": "stdout",
     "output_type": "stream",
     "text": [
      "predicted class: -0.05 actual class: 0\n"
     ]
    }
   ],
   "source": [
    "print(f\"predicted class: {pred:.2f} actual class: {test_y}\")"
   ]
  }
 ],
 "metadata": {
  "kernelspec": {
   "display_name": "Python 3 (ipykernel)",
   "language": "python",
   "name": "python3"
  },
  "language_info": {
   "codemirror_mode": {
    "name": "ipython",
    "version": 3
   },
   "file_extension": ".py",
   "mimetype": "text/x-python",
   "name": "python",
   "nbconvert_exporter": "python",
   "pygments_lexer": "ipython3",
   "version": "3.10.4"
  },
  "colab": {
   "provenance": []
  }
 },
 "nbformat": 4,
 "nbformat_minor": 5
}
