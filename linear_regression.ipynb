{
 "cells": [
  {
   "cell_type": "code",
   "execution_count": 137,
   "id": "abce4d72",
   "metadata": {
    "ExecuteTime": {
     "end_time": "2024-10-30T22:13:43.468975700Z",
     "start_time": "2024-10-30T22:13:43.418568Z"
    }
   },
   "outputs": [],
   "source": [
    "from sklearn.datasets import load_iris\n",
    "import matplotlib.pyplot as plt\n",
    "import numpy as np\n",
    "import random"
   ]
  },
  {
   "cell_type": "code",
   "execution_count": 138,
   "outputs": [],
   "source": [
    "data = load_iris()\n",
    "shuffledIndices = np.random.permutation(len(data.target))\n",
    "data.data, data.target = data.data[shuffledIndices], data.target[shuffledIndices]\n",
    "train_x, test_x = data.data[:100, 1:3], data.data[100:, 1:3]\n",
    "train_y, test_y = data.target[:100], data.target[100:]"
   ],
   "metadata": {
    "collapsed": false,
    "ExecuteTime": {
     "end_time": "2024-10-30T22:13:43.510485300Z",
     "start_time": "2024-10-30T22:13:43.429268800Z"
    }
   },
   "id": "22dafd4a5d641b18"
  },
  {
   "cell_type": "code",
   "execution_count": 139,
   "id": "fc074530",
   "metadata": {
    "ExecuteTime": {
     "end_time": "2024-10-30T22:13:43.511483100Z",
     "start_time": "2024-10-30T22:13:43.450517400Z"
    }
   },
   "outputs": [],
   "source": [
    "def mean_squared_error(independent, dependent):\n",
    "    global weight\n",
    "    probability = np.dot(independent, weight)\n",
    "    loss = np.mean((probability - dependent) ** 2)\n",
    "    print(f\"MSE cost: {loss:.3f}\")\n",
    "\n",
    "def mean_absolute_error(independent, dependent):\n",
    "    global weight\n",
    "    probability = np.dot(independent, weight)\n",
    "    loss = np.mean(abs(probability - dependent))\n",
    "    print(f\"MAE cost: {loss:.3f}\")"
   ]
  },
  {
   "cell_type": "code",
   "execution_count": 140,
   "outputs": [],
   "source": [
    "weight = np.random.rand(train_x.shape[1])\n",
    "lr = 0.01\n",
    "iterations = 10000"
   ],
   "metadata": {
    "collapsed": false,
    "ExecuteTime": {
     "end_time": "2024-10-30T22:13:43.512482400Z",
     "start_time": "2024-10-30T22:13:43.464131800Z"
    }
   },
   "id": "6c35f6a8"
  },
  {
   "cell_type": "code",
   "execution_count": 141,
   "outputs": [
    {
     "name": "stdout",
     "output_type": "stream",
     "text": [
      "MSE cost: 5.408\n",
      "MAE cost: 2.204\n"
     ]
    }
   ],
   "source": [
    "mean_squared_error(test_x, test_y)\n",
    "mean_absolute_error(test_x, test_y)"
   ],
   "metadata": {
    "collapsed": false,
    "ExecuteTime": {
     "end_time": "2024-10-30T22:13:43.512482400Z",
     "start_time": "2024-10-30T22:13:43.478580Z"
    }
   },
   "id": "e183dde4"
  },
  {
   "cell_type": "code",
   "execution_count": 142,
   "id": "2560dc97",
   "metadata": {
    "ExecuteTime": {
     "end_time": "2024-10-30T22:13:43.512482400Z",
     "start_time": "2024-10-30T22:13:43.492107900Z"
    }
   },
   "outputs": [],
   "source": [
    "def gdr(x, y, weight, lr):\n",
    "    indications = np.dot(x, weight)\n",
    "    weight -= (lr / x.shape[0]) * np.dot(x.T, (indications - y))"
   ]
  },
  {
   "cell_type": "code",
   "execution_count": 143,
   "id": "a305bb62",
   "metadata": {
    "ExecuteTime": {
     "end_time": "2024-10-30T22:13:43.692818Z",
     "start_time": "2024-10-30T22:13:43.503487Z"
    }
   },
   "outputs": [],
   "source": [
    "for epoch in range(iterations): gdr(train_x, train_y, weight, lr)"
   ]
  },
  {
   "cell_type": "code",
   "execution_count": 144,
   "id": "b2944eff",
   "metadata": {
    "ExecuteTime": {
     "end_time": "2024-10-30T22:13:43.715720800Z",
     "start_time": "2024-10-30T22:13:43.699042800Z"
    }
   },
   "outputs": [],
   "source": [
    "def pred(x, weight):\n",
    "    if type(x) == list: x = np.array(x)\n",
    "    return round(np.dot(x, weight))"
   ]
  },
  {
   "cell_type": "code",
   "execution_count": 145,
   "id": "6d65f648",
   "metadata": {
    "ExecuteTime": {
     "end_time": "2024-10-30T22:13:43.718185100Z",
     "start_time": "2024-10-30T22:13:43.708647Z"
    }
   },
   "outputs": [
    {
     "name": "stdout",
     "output_type": "stream",
     "text": [
      "MSE cost: 0.056\n",
      "MAE cost: 0.194\n"
     ]
    }
   ],
   "source": [
    "mean_squared_error(test_x, test_y)\n",
    "mean_absolute_error(test_x, test_y)"
   ]
  }
 ],
 "metadata": {
  "kernelspec": {
   "display_name": "Python 3 (ipykernel)",
   "language": "python",
   "name": "python3"
  },
  "language_info": {
   "codemirror_mode": {
    "name": "ipython",
    "version": 3
   },
   "file_extension": ".py",
   "mimetype": "text/x-python",
   "name": "python",
   "nbconvert_exporter": "python",
   "pygments_lexer": "ipython3",
   "version": "3.10.4"
  }
 },
 "nbformat": 4,
 "nbformat_minor": 5
}
